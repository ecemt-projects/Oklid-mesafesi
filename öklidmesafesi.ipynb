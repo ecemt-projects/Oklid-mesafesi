{
  "nbformat": 4,
  "nbformat_minor": 0,
  "metadata": {
    "colab": {
      "provenance": []
    },
    "kernelspec": {
      "name": "python3",
      "display_name": "Python 3"
    },
    "language_info": {
      "name": "python"
    }
  },
  "cells": [
    {
      "cell_type": "code",
      "execution_count": 1,
      "metadata": {
        "colab": {
          "base_uri": "https://localhost:8080/"
        },
        "id": "jjVQ8rotRe72",
        "outputId": "3efc3431-df7d-4289-df13-d501119b6812"
      },
      "outputs": [
        {
          "output_type": "stream",
          "name": "stdout",
          "text": [
            "Collecting python-math\n",
            "  Downloading python_math-0.0.1-py3-none-any.whl (2.4 kB)\n",
            "Installing collected packages: python-math\n",
            "Successfully installed python-math-0.0.1\n"
          ]
        }
      ],
      "source": [
        "pip install python-math"
      ]
    },
    {
      "cell_type": "code",
      "source": [
        "import math"
      ],
      "metadata": {
        "id": "762lHKTmRmHO"
      },
      "execution_count": 2,
      "outputs": []
    },
    {
      "cell_type": "code",
      "source": [
        "# Öklid mesafesi hesaplayan fonksiyon\n",
        "def euclideanDistance(point1, point2):\n",
        "    x1, y1 = point1\n",
        "    x2, y2 = point2\n",
        "    return math.sqrt((x2 - x1)**2 + (y2 - y1)**2)"
      ],
      "metadata": {
        "id": "K2MlTRzyRmJ4"
      },
      "execution_count": 3,
      "outputs": []
    },
    {
      "cell_type": "code",
      "source": [
        "# Noktaları içeren liste\n",
        "points = [\n",
        "    (1, 2),\n",
        "    (3, 5),\n",
        "    (7, 8),\n",
        "    (9, 1),\n",
        "    (4, 6)\n",
        "]"
      ],
      "metadata": {
        "id": "qAWiVxt2RmNk"
      },
      "execution_count": 4,
      "outputs": []
    },
    {
      "cell_type": "code",
      "source": [
        "# Mesafeleri saklayacak liste\n",
        "distances = []\n",
        "\n",
        "# Her nokta çifti arasındaki mesafeyi hesapla ve distances listesine ekle\n",
        "for i in range(len(points)):\n",
        "    for j in range(i + 1, len(points)):\n",
        "        dist = euclideanDistance(points[i], points[j])\n",
        "        distances.append(dist)"
      ],
      "metadata": {
        "id": "2QqmysN7RmPH"
      },
      "execution_count": 5,
      "outputs": []
    },
    {
      "cell_type": "code",
      "source": [
        "# En küçük mesafeyi bul\n",
        "min_distance = min(distances)"
      ],
      "metadata": {
        "id": "WBsxsDh-RmRQ"
      },
      "execution_count": 6,
      "outputs": []
    },
    {
      "cell_type": "code",
      "source": [
        "# Sonucu ekrana yazdır\n",
        "print(\"En küçük öklid mesafesi:\", min_distance)"
      ],
      "metadata": {
        "colab": {
          "base_uri": "https://localhost:8080/"
        },
        "id": "rEuQP4J5RmT9",
        "outputId": "bb95b5d3-26d9-469e-e3d2-df8aa160f6e8"
      },
      "execution_count": 7,
      "outputs": [
        {
          "output_type": "stream",
          "name": "stdout",
          "text": [
            "En küçük öklid mesafesi: 1.4142135623730951\n"
          ]
        }
      ]
    }
  ]
}